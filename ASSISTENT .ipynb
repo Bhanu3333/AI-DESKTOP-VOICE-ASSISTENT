{
 "cells": [
  {
   "cell_type": "code",
   "execution_count": 18,
   "metadata": {},
   "outputs": [],
   "source": [
    "import pyttsx3\n",
    "\n",
    "engine = pyttsx3.init('sapi5')\n",
    "\n",
    "voices= engine.getProperty('voices') #getting details of current voice\n",
    "\n",
    "engine.setProperty('voice', voices[0].id)\n"
   ]
  },
  {
   "cell_type": "code",
   "execution_count": 19,
   "metadata": {},
   "outputs": [],
   "source": [
    "def speak(audio):\n",
    "\n",
    "    engine.say(audio) \n",
    "    engine.runAndWait() #Without this command, speech will not be audible to us."
   ]
  },
  {
   "cell_type": "code",
   "execution_count": 20,
   "metadata": {},
   "outputs": [],
   "source": [
    "import datetime\n",
    "hour = int(datetime.datetime.now().hour)\n"
   ]
  },
  {
   "cell_type": "code",
   "execution_count": 21,
   "metadata": {},
   "outputs": [],
   "source": [
    "def wish():\n",
    "    if hour>0 and hour<12:\n",
    "        speak(\"good morning sir\") \n",
    "    else:\n",
    "        speak(\"good evening sir\") \n",
    "    speak(\"this is bhanu how can i help you\")\n",
    "    "
   ]
  },
  {
   "cell_type": "code",
   "execution_count": 22,
   "metadata": {},
   "outputs": [],
   "source": [
    "import speech_recognition as sr\n",
    "def takeCommand():\n",
    "    #It takes microphone input from the user and returns string output\n",
    "    r = sr.Recognizer()\n",
    "    with sr.Microphone() as source:\n",
    "        print(\"Listening...\")\n",
    "        r.pause_threshold = 1\n",
    "        audio = r.listen(source)\n",
    "    try:\n",
    "        print(\"Recognizing...\")    \n",
    "        query = r.recognize_google(audio, language='en-in') #Using google for voice recognition.\n",
    "        print(f\"User said: {query}\\n\")  #User query will be printed.\n",
    "\n",
    "    except Exception as e:\n",
    "        # print(e)    \n",
    "        print(\"Say that again please...\")   #Say that again will be printed in case of improper voice \n",
    "        return \"None\" #None string will be returned\n",
    "    return query\n",
    "\n",
    " "
   ]
  },
  {
   "cell_type": "code",
   "execution_count": 23,
   "metadata": {},
   "outputs": [
    {
     "name": "stdout",
     "output_type": "stream",
     "text": [
      "Listening...\n",
      "Recognizing...\n",
      "User said: open Google\n",
      "\n"
     ]
    }
   ],
   "source": [
    "import wikipedia\n",
    "import webbrowser\n",
    "import smtplib\n",
    "import os\n",
    "def sendEmail(to, content):\n",
    "    server = smtplib.SMTP('smtp.gmail.com', 587)\n",
    "    server.ehlo()\n",
    "    server.starttls()\n",
    "    server.login('YOURMAIL', 'YOURPASSWORD')\n",
    "    server.sendmail('YOURMAIL', to, content)\n",
    "    server.close()\n",
    "if __name__ == \"__main__\":\n",
    "    wish()\n",
    "    t=1\n",
    "    while t:\n",
    "    # if 1:\n",
    "        query = takeCommand().lower() #Converting user query into lower case\n",
    "\n",
    "        # Logic for executing tasks based on query\n",
    "        if 'wikipedia' in query:  #if wikipedia found in the query then this block will be executed\n",
    "            speak('Searching Wikipedia...')\n",
    "            query = query.replace(\"wikipedia\", \"\")\n",
    "            results = wikipedia.summary(query, sentences=2) \n",
    "            speak(\"According to Wikipedia\")\n",
    "            print(results)\n",
    "            speak(results) \n",
    "        elif 'open youtube' in query:\n",
    "             webbrowser.open(\"youtube.com\")\n",
    "        elif 'open google' in query:\n",
    "             webbrowser.open(\"google.com\")\n",
    "        elif 'play music' in query:\n",
    "            music_dir = r'C:\\Users\\bhanu\\Downloads\\songs'\n",
    "            songs = os.listdir(music_dir)  \n",
    "            os.startfile(os.path.join(music_dir, songs[0]))\n",
    "        elif 'time' in query:\n",
    "            strTime = datetime.datetime.now().strftime(\"%H:%M:%S\")    \n",
    "            speak(f\"Sir, the time is {strTime}\")\n",
    "        elif 'email to harry' in query:\n",
    "            try:\n",
    "                speak(\"What should I say?\")\n",
    "                content = takeCommand()\n",
    "                to = \"GIVE THE MAIL TO WHOM YOU GONNA MAIL\"    \n",
    "                sendEmail(to, content)\n",
    "                speak(\"Email has been sent!\")\n",
    "            except Exception as e:\n",
    "                print(e)\n",
    "                speak(\"Sorry my friend harry bhai. I am not able to send this email\")    \n",
    "        t-=1"
   ]
  },
  {
   "cell_type": "code",
   "execution_count": null,
   "metadata": {},
   "outputs": [],
   "source": []
  }
 ],
 "metadata": {
  "kernelspec": {
   "display_name": "Python 3",
   "language": "python",
   "name": "python3"
  },
  "language_info": {
   "codemirror_mode": {
    "name": "ipython",
    "version": 3
   },
   "file_extension": ".py",
   "mimetype": "text/x-python",
   "name": "python",
   "nbconvert_exporter": "python",
   "pygments_lexer": "ipython3",
   "version": "3.7.4"
  }
 },
 "nbformat": 4,
 "nbformat_minor": 2
}
